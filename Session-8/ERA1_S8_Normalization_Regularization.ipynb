{
  "cells": [
    {
      "cell_type": "markdown",
      "metadata": {
        "id": "view-in-github",
        "colab_type": "text"
      },
      "source": [
        "<a href=\"https://colab.research.google.com/github/abhiiyer/ERA1/blob/main/Session-8/ERA1_S8_Normalization_Regularization.ipynb\" target=\"_parent\"><img src=\"https://colab.research.google.com/assets/colab-badge.svg\" alt=\"Open In Colab\"/></a>"
      ]
    },
    {
      "cell_type": "markdown",
      "metadata": {
        "id": "oE1VR4Ap1VxA"
      },
      "source": [
        "## Normalization and Regularization Effects\n",
        "### Different trials to study effects of normalization and regularization on CNN model using MNIST dataset \n",
        "\n",
        "- Network with Group Normalization\n",
        "- Network with Layer Normalization\n",
        "- Network with L1 + BN\n",
        "\n",
        "## Plotting the loss functions overlayed\n",
        "## Plotting the misclassification images\n",
        "\n"
      ]
    },
    {
      "cell_type": "markdown",
      "metadata": {
        "id": "sUuH0OxDdzWO"
      },
      "source": [
        "## Loading model file"
      ]
    },
    {
      "cell_type": "code",
      "execution_count": 4,
      "metadata": {
        "id": "lkBZGjuSmic6"
      },
      "outputs": [],
      "source": [
        "from __future__ import print_function\n",
        "import torch\n",
        "import torch.nn as nn\n",
        "import torch.nn.functional as F\n",
        "import torch.optim as optim\n",
        "from torchvision import datasets, transforms\n",
        "from model8 import *"
      ]
    },
    {
      "cell_type": "markdown",
      "metadata": {
        "id": "_hYt3Mtt3hXC"
      },
      "source": [
        "## Data Transformations\n"
      ]
    },
    {
      "cell_type": "code",
      "execution_count": 5,
      "metadata": {
        "id": "KithyIFu5JDi"
      },
      "outputs": [],
      "source": [
        "# Train Phase transformations\n",
        "train_transforms = transforms.Compose([\n",
        "                                       transforms.RandomRotation((-7.0, 7.0), fill=(1,)),\n",
        "                                       transforms.ToTensor(),\n",
        "                                       transforms.Normalize((0.1307,), (0.3081,)) # The mean and std have to be sequences (e.g., tuples), therefore you should add a comma after the values. \n",
        "                                       # Note the difference between (0.1307) and (0.1307,)\n",
        "                                       ])\n",
        "\n",
        "# Test Phase transformations\n",
        "test_transforms = transforms.Compose([\n",
        "                                       transforms.ToTensor(),\n",
        "                                       transforms.Normalize((0.1307,), (0.3081,))\n",
        "                                       ])"
      ]
    },
    {
      "cell_type": "code",
      "execution_count": 6,
      "metadata": {
        "colab": {
          "base_uri": "https://localhost:8080/"
        },
        "id": "CWzx35MS7EUU",
        "outputId": "08e3b2bf-a378-4c4f-efd8-7662a27e880f"
      },
      "outputs": [
        {
          "output_type": "stream",
          "name": "stdout",
          "text": [
            "Downloading http://yann.lecun.com/exdb/mnist/train-images-idx3-ubyte.gz\n",
            "Downloading http://yann.lecun.com/exdb/mnist/train-images-idx3-ubyte.gz to ./data/MNIST/raw/train-images-idx3-ubyte.gz\n"
          ]
        },
        {
          "output_type": "stream",
          "name": "stderr",
          "text": [
            "100%|██████████| 9912422/9912422 [00:00<00:00, 111326337.22it/s]\n"
          ]
        },
        {
          "output_type": "stream",
          "name": "stdout",
          "text": [
            "Extracting ./data/MNIST/raw/train-images-idx3-ubyte.gz to ./data/MNIST/raw\n",
            "\n",
            "Downloading http://yann.lecun.com/exdb/mnist/train-labels-idx1-ubyte.gz\n",
            "Downloading http://yann.lecun.com/exdb/mnist/train-labels-idx1-ubyte.gz to ./data/MNIST/raw/train-labels-idx1-ubyte.gz\n"
          ]
        },
        {
          "output_type": "stream",
          "name": "stderr",
          "text": [
            "100%|██████████| 28881/28881 [00:00<00:00, 80275476.36it/s]\n"
          ]
        },
        {
          "output_type": "stream",
          "name": "stdout",
          "text": [
            "Extracting ./data/MNIST/raw/train-labels-idx1-ubyte.gz to ./data/MNIST/raw\n",
            "\n",
            "Downloading http://yann.lecun.com/exdb/mnist/t10k-images-idx3-ubyte.gz\n",
            "Downloading http://yann.lecun.com/exdb/mnist/t10k-images-idx3-ubyte.gz to ./data/MNIST/raw/t10k-images-idx3-ubyte.gz\n"
          ]
        },
        {
          "output_type": "stream",
          "name": "stderr",
          "text": [
            "100%|██████████| 1648877/1648877 [00:00<00:00, 25708582.16it/s]\n"
          ]
        },
        {
          "output_type": "stream",
          "name": "stdout",
          "text": [
            "Extracting ./data/MNIST/raw/t10k-images-idx3-ubyte.gz to ./data/MNIST/raw\n",
            "\n",
            "Downloading http://yann.lecun.com/exdb/mnist/t10k-labels-idx1-ubyte.gz\n",
            "Downloading http://yann.lecun.com/exdb/mnist/t10k-labels-idx1-ubyte.gz to ./data/MNIST/raw/t10k-labels-idx1-ubyte.gz\n"
          ]
        },
        {
          "output_type": "stream",
          "name": "stderr",
          "text": [
            "100%|██████████| 4542/4542 [00:00<00:00, 16035798.63it/s]\n"
          ]
        },
        {
          "output_type": "stream",
          "name": "stdout",
          "text": [
            "Extracting ./data/MNIST/raw/t10k-labels-idx1-ubyte.gz to ./data/MNIST/raw\n",
            "\n"
          ]
        }
      ],
      "source": [
        "train = datasets.MNIST('./data', train=True, download = True, transform=train_transforms)\n",
        "test = datasets.MNIST('./data', train=False, download=True, transform=test_transforms)"
      ]
    },
    {
      "cell_type": "markdown",
      "metadata": {
        "id": "t_RWHjcK_KNj"
      },
      "source": [
        "## Dataloader Arguments & Test/Train Dataloaders"
      ]
    },
    {
      "cell_type": "code",
      "execution_count": 7,
      "metadata": {
        "colab": {
          "base_uri": "https://localhost:8080/"
        },
        "id": "gLq2-fw58GAP",
        "outputId": "fce99712-11c2-45d2-abf5-59e214827cad"
      },
      "outputs": [
        {
          "output_type": "stream",
          "name": "stdout",
          "text": [
            "CUDA Availalbe? True\n"
          ]
        },
        {
          "output_type": "stream",
          "name": "stderr",
          "text": [
            "/usr/local/lib/python3.10/dist-packages/torch/utils/data/dataloader.py:560: UserWarning: This DataLoader will create 4 worker processes in total. Our suggested max number of worker in current system is 2, which is smaller than what this DataLoader is going to create. Please be aware that excessive worker creation might get DataLoader running slow or even freeze, lower the worker number to avoid potential slowness/freeze if necessary.\n",
            "  warnings.warn(_create_warning_msg(\n"
          ]
        }
      ],
      "source": [
        "SEED = 1\n",
        "\n",
        "# CUDA?\n",
        "cuda = torch.cuda.is_available()\n",
        "print(\"CUDA Availalbe?\", cuda)\n",
        "\n",
        "# For reproducibility\n",
        "torch.manual_seed(SEED)\n",
        "\n",
        "if cuda:\n",
        "    torch.cuda.manual_seed(SEED)\n",
        "\n",
        "# dataloader arguments\n",
        "dataloader_args = dict(shuffle=True,batch_size=128,num_workers=4,pin_memory=True) if cuda else dict(shuffle=True, batch_size=64)\n",
        "\n",
        "# train dataloader\n",
        "train_loader = torch.utils.data.DataLoader(train, **dataloader_args)\n",
        "\n",
        "# test dataloader\n",
        "test_loader = torch.utils.data.DataLoader(test, **dataloader_args)"
      ]
    },
    {
      "cell_type": "markdown",
      "metadata": {
        "id": "xiV70jqqAdFs"
      },
      "source": [
        "## Model Params"
      ]
    },
    {
      "cell_type": "code",
      "execution_count": 8,
      "metadata": {
        "colab": {
          "base_uri": "https://localhost:8080/"
        },
        "id": "Ew1qr3YmAZhv",
        "outputId": "578d41a3-1270-4efb-8827-43f4d6b54291"
      },
      "outputs": [
        {
          "output_type": "stream",
          "name": "stdout",
          "text": [
            "Looking in indexes: https://pypi.org/simple, https://us-python.pkg.dev/colab-wheels/public/simple/\n",
            "Requirement already satisfied: torchsummary in /usr/local/lib/python3.10/dist-packages (1.5.1)\n",
            "cuda\n",
            "----------------------------------------------------------------\n",
            "        Layer (type)               Output Shape         Param #\n",
            "================================================================\n",
            "            Conv2d-1            [-1, 8, 26, 26]              72\n",
            "              ReLU-2            [-1, 8, 26, 26]               0\n",
            "         GroupNorm-3            [-1, 8, 26, 26]              16\n",
            "           Dropout-4            [-1, 8, 26, 26]               0\n",
            "            Conv2d-5           [-1, 16, 24, 24]           1,152\n",
            "              ReLU-6           [-1, 16, 24, 24]               0\n",
            "         GroupNorm-7           [-1, 16, 24, 24]              32\n",
            "           Dropout-8           [-1, 16, 24, 24]               0\n",
            "            Conv2d-9            [-1, 8, 24, 24]             128\n",
            "        MaxPool2d-10            [-1, 8, 12, 12]               0\n",
            "           Conv2d-11           [-1, 16, 10, 10]           1,152\n",
            "             ReLU-12           [-1, 16, 10, 10]               0\n",
            "        GroupNorm-13           [-1, 16, 10, 10]              32\n",
            "          Dropout-14           [-1, 16, 10, 10]               0\n",
            "           Conv2d-15              [-1, 8, 8, 8]           1,152\n",
            "             ReLU-16              [-1, 8, 8, 8]               0\n",
            "        GroupNorm-17              [-1, 8, 8, 8]              16\n",
            "          Dropout-18              [-1, 8, 8, 8]               0\n",
            "           Conv2d-19             [-1, 16, 6, 6]           1,152\n",
            "             ReLU-20             [-1, 16, 6, 6]               0\n",
            "        GroupNorm-21             [-1, 16, 6, 6]              32\n",
            "          Dropout-22             [-1, 16, 6, 6]               0\n",
            "           Conv2d-23             [-1, 16, 4, 4]           2,304\n",
            "             ReLU-24             [-1, 16, 4, 4]               0\n",
            "        GroupNorm-25             [-1, 16, 4, 4]              32\n",
            "          Dropout-26             [-1, 16, 4, 4]               0\n",
            "        AvgPool2d-27             [-1, 16, 1, 1]               0\n",
            "           Conv2d-28             [-1, 10, 1, 1]             160\n",
            "================================================================\n",
            "Total params: 7,432\n",
            "Trainable params: 7,432\n",
            "Non-trainable params: 0\n",
            "----------------------------------------------------------------\n",
            "Input size (MB): 0.00\n",
            "Forward/backward pass size (MB): 0.58\n",
            "Params size (MB): 0.03\n",
            "Estimated Total Size (MB): 0.61\n",
            "----------------------------------------------------------------\n"
          ]
        }
      ],
      "source": [
        "!pip install torchsummary\n",
        "from torchsummary import summary\n",
        "use_cuda = torch.cuda.is_available()\n",
        "device = torch.device(\"cuda\" if use_cuda else \"cpu\")\n",
        "print(device)\n",
        "model = Net(normalizationMethod='GN').to(device)\n",
        "summary(model, input_size=(1, 28, 28))"
      ]
    },
    {
      "cell_type": "markdown",
      "metadata": {
        "id": "IFogdu6XB2KC"
      },
      "source": [
        "## Training and Testing"
      ]
    },
    {
      "cell_type": "code",
      "execution_count": 9,
      "metadata": {
        "id": "mJVruQQnBwCU"
      },
      "outputs": [],
      "source": [
        "from tqdm import tqdm\n",
        "\n",
        "train_losses = {\"BN\":[],\"GN\":[],\"LN\":[]}\n",
        "test_losses = {\"BN\":[],\"GN\":[],\"LN\":[]}\n",
        "train_acc = {\"BN\":[],\"GN\":[],\"LN\":[]}\n",
        "test_acc = {\"BN\":[],\"GN\":[],\"LN\":[]}\n",
        "\n",
        "def train(model, device, train_loader, optimizer, epoch, runName, L1flag=False):\n",
        "  model.train()\n",
        "  pbar = tqdm(train_loader)\n",
        "  correct = 0\n",
        "  processed = 0\n",
        "  for batch_idx, (data, target) in enumerate(pbar):\n",
        "    # get samples\n",
        "    data, target = data.to(device), target.to(device)\n",
        "\n",
        "    # Init\n",
        "    optimizer.zero_grad()\n",
        "    # In PyTorch, we need to set the gradients to zero before starting to do backpropragation because PyTorch accumulates the gradients on subsequent backward passes. \n",
        "    # Because of this, when you start your training loop, ideally you should zero out the gradients so that you do the parameter update correctly.\n",
        "\n",
        "    # Predict\n",
        "    y_pred = model(data)\n",
        "\n",
        "    # Calculate loss\n",
        "    loss = F.nll_loss(y_pred, target)\n",
        "\n",
        "\n",
        "    # L1 Regularization\n",
        "    if L1flag:\n",
        "        l1_lambda = 1.0e-5\n",
        "        l1_loss = torch.tensor(0., requires_grad=True)\n",
        "        l1_loss=l1_loss.to(device)\n",
        "        for name, param in model.named_parameters():\n",
        "            l1_loss = l1_loss + l1_lambda*(torch.norm(param, 1))\n",
        "        loss=loss+l1_loss\n",
        "\n",
        "    train_losses[runName].append(loss.item())\n",
        "    # Backpropagation\n",
        "    loss.backward()\n",
        "    optimizer.step()\n",
        "\n",
        "    # Update pbar-tqdm\n",
        "    \n",
        "    pred = y_pred.argmax(dim=1, keepdim=True)  # get the index of the max log-probability\n",
        "    correct += pred.eq(target.view_as(pred)).sum().item()\n",
        "    processed += len(data)\n",
        "\n",
        "    pbar.set_description(desc= f'Loss={loss.item()} Batch_id={batch_idx} Accuracy={100*correct/processed:0.2f}')\n",
        "    train_acc[runName].append(100*correct/processed)\n",
        "\n",
        "def test(model, device, test_loader, runName):\n",
        "    model.eval()\n",
        "    test_loss = 0\n",
        "    correct = 0\n",
        "    with torch.no_grad():\n",
        "        for data, target in test_loader:\n",
        "            data, target = data.to(device), target.to(device)\n",
        "            output = model(data)\n",
        "            test_loss += F.nll_loss(output, target, reduction='sum').item()  # sum up batch loss\n",
        "            pred = output.argmax(dim=1, keepdim=True)  # get the index of the max log-probability\n",
        "            correct += pred.eq(target.view_as(pred)).sum().item()\n",
        "\n",
        "    test_loss /= len(test_loader.dataset)\n",
        "    test_losses[runName].append(test_loss)\n",
        "\n",
        "    print('\\nTest set: Average loss: {:.4f}, Accuracy: {}/{} ({:.2f}%)\\n'.format(\n",
        "        test_loss, correct, len(test_loader.dataset),\n",
        "        100. * correct / len(test_loader.dataset)))\n",
        "    \n",
        "    test_acc[runName].append(100. * correct / len(test_loader.dataset))"
      ]
    },
    {
      "cell_type": "markdown",
      "metadata": {
        "id": "s2tJIcYEuZBW"
      },
      "source": [
        "## Network with Group Normalization"
      ]
    },
    {
      "cell_type": "code",
      "execution_count": 10,
      "metadata": {
        "colab": {
          "base_uri": "https://localhost:8080/"
        },
        "id": "yWEp1-HaB57-",
        "outputId": "8a927e33-6486-40a0-ba78-0f2058c3b3f7"
      },
      "outputs": [
        {
          "output_type": "stream",
          "name": "stdout",
          "text": [
            "EPOCH: 0\n"
          ]
        },
        {
          "output_type": "stream",
          "name": "stderr",
          "text": [
            "Loss=0.1525232344865799 Batch_id=468 Accuracy=90.13: 100%|██████████| 469/469 [00:34<00:00, 13.61it/s]\n"
          ]
        },
        {
          "output_type": "stream",
          "name": "stdout",
          "text": [
            "\n",
            "Test set: Average loss: 0.0736, Accuracy: 9771/10000 (97.71%)\n",
            "\n",
            "EPOCH: 1\n"
          ]
        },
        {
          "output_type": "stream",
          "name": "stderr",
          "text": [
            "Loss=0.06746373325586319 Batch_id=468 Accuracy=97.32: 100%|██████████| 469/469 [00:27<00:00, 16.98it/s]\n"
          ]
        },
        {
          "output_type": "stream",
          "name": "stdout",
          "text": [
            "\n",
            "Test set: Average loss: 0.0434, Accuracy: 9869/10000 (98.69%)\n",
            "\n",
            "EPOCH: 2\n"
          ]
        },
        {
          "output_type": "stream",
          "name": "stderr",
          "text": [
            "Loss=0.10679328441619873 Batch_id=468 Accuracy=97.89: 100%|██████████| 469/469 [00:26<00:00, 17.79it/s]\n"
          ]
        },
        {
          "output_type": "stream",
          "name": "stdout",
          "text": [
            "\n",
            "Test set: Average loss: 0.0445, Accuracy: 9857/10000 (98.57%)\n",
            "\n",
            "EPOCH: 3\n"
          ]
        },
        {
          "output_type": "stream",
          "name": "stderr",
          "text": [
            "Loss=0.029468027874827385 Batch_id=468 Accuracy=98.11: 100%|██████████| 469/469 [00:26<00:00, 17.40it/s]\n"
          ]
        },
        {
          "output_type": "stream",
          "name": "stdout",
          "text": [
            "\n",
            "Test set: Average loss: 0.0338, Accuracy: 9889/10000 (98.89%)\n",
            "\n",
            "EPOCH: 4\n"
          ]
        },
        {
          "output_type": "stream",
          "name": "stderr",
          "text": [
            "Loss=0.009840072132647038 Batch_id=468 Accuracy=98.31: 100%|██████████| 469/469 [00:28<00:00, 16.36it/s]\n"
          ]
        },
        {
          "output_type": "stream",
          "name": "stdout",
          "text": [
            "\n",
            "Test set: Average loss: 0.0283, Accuracy: 9916/10000 (99.16%)\n",
            "\n",
            "EPOCH: 5\n"
          ]
        },
        {
          "output_type": "stream",
          "name": "stderr",
          "text": [
            "Loss=0.06184111908078194 Batch_id=468 Accuracy=98.41: 100%|██████████| 469/469 [00:25<00:00, 18.13it/s]\n"
          ]
        },
        {
          "output_type": "stream",
          "name": "stdout",
          "text": [
            "\n",
            "Test set: Average loss: 0.0334, Accuracy: 9891/10000 (98.91%)\n",
            "\n",
            "EPOCH: 6\n"
          ]
        },
        {
          "output_type": "stream",
          "name": "stderr",
          "text": [
            "Loss=0.03354949876666069 Batch_id=468 Accuracy=98.80: 100%|██████████| 469/469 [00:26<00:00, 17.82it/s]\n"
          ]
        },
        {
          "output_type": "stream",
          "name": "stdout",
          "text": [
            "\n",
            "Test set: Average loss: 0.0232, Accuracy: 9928/10000 (99.28%)\n",
            "\n",
            "EPOCH: 7\n"
          ]
        },
        {
          "output_type": "stream",
          "name": "stderr",
          "text": [
            "Loss=0.018665514886379242 Batch_id=468 Accuracy=98.83: 100%|██████████| 469/469 [00:26<00:00, 17.72it/s]\n"
          ]
        },
        {
          "output_type": "stream",
          "name": "stdout",
          "text": [
            "\n",
            "Test set: Average loss: 0.0251, Accuracy: 9927/10000 (99.27%)\n",
            "\n",
            "EPOCH: 8\n"
          ]
        },
        {
          "output_type": "stream",
          "name": "stderr",
          "text": [
            "Loss=0.022108882665634155 Batch_id=468 Accuracy=98.86: 100%|██████████| 469/469 [00:26<00:00, 17.80it/s]\n"
          ]
        },
        {
          "output_type": "stream",
          "name": "stdout",
          "text": [
            "\n",
            "Test set: Average loss: 0.0228, Accuracy: 9929/10000 (99.29%)\n",
            "\n",
            "EPOCH: 9\n"
          ]
        },
        {
          "output_type": "stream",
          "name": "stderr",
          "text": [
            "Loss=0.041678737848997116 Batch_id=468 Accuracy=98.83: 100%|██████████| 469/469 [00:26<00:00, 17.75it/s]\n"
          ]
        },
        {
          "output_type": "stream",
          "name": "stdout",
          "text": [
            "\n",
            "Test set: Average loss: 0.0248, Accuracy: 9926/10000 (99.26%)\n",
            "\n",
            "EPOCH: 10\n"
          ]
        },
        {
          "output_type": "stream",
          "name": "stderr",
          "text": [
            "Loss=0.01146482303738594 Batch_id=468 Accuracy=98.89: 100%|██████████| 469/469 [00:27<00:00, 17.00it/s]\n"
          ]
        },
        {
          "output_type": "stream",
          "name": "stdout",
          "text": [
            "\n",
            "Test set: Average loss: 0.0218, Accuracy: 9927/10000 (99.27%)\n",
            "\n",
            "EPOCH: 11\n"
          ]
        },
        {
          "output_type": "stream",
          "name": "stderr",
          "text": [
            "Loss=0.043073251843452454 Batch_id=468 Accuracy=98.91: 100%|██████████| 469/469 [00:25<00:00, 18.35it/s]\n"
          ]
        },
        {
          "output_type": "stream",
          "name": "stdout",
          "text": [
            "\n",
            "Test set: Average loss: 0.0231, Accuracy: 9924/10000 (99.24%)\n",
            "\n",
            "EPOCH: 12\n"
          ]
        },
        {
          "output_type": "stream",
          "name": "stderr",
          "text": [
            "Loss=0.020629271864891052 Batch_id=468 Accuracy=98.95: 100%|██████████| 469/469 [00:25<00:00, 18.28it/s]\n"
          ]
        },
        {
          "output_type": "stream",
          "name": "stdout",
          "text": [
            "\n",
            "Test set: Average loss: 0.0223, Accuracy: 9928/10000 (99.28%)\n",
            "\n",
            "EPOCH: 13\n"
          ]
        },
        {
          "output_type": "stream",
          "name": "stderr",
          "text": [
            "Loss=0.010404394008219242 Batch_id=468 Accuracy=98.96: 100%|██████████| 469/469 [00:26<00:00, 17.98it/s]\n"
          ]
        },
        {
          "output_type": "stream",
          "name": "stdout",
          "text": [
            "\n",
            "Test set: Average loss: 0.0220, Accuracy: 9930/10000 (99.30%)\n",
            "\n",
            "EPOCH: 14\n"
          ]
        },
        {
          "output_type": "stream",
          "name": "stderr",
          "text": [
            "Loss=0.007680485490709543 Batch_id=468 Accuracy=98.92: 100%|██████████| 469/469 [00:26<00:00, 17.90it/s]\n"
          ]
        },
        {
          "output_type": "stream",
          "name": "stdout",
          "text": [
            "\n",
            "Test set: Average loss: 0.0218, Accuracy: 9933/10000 (99.33%)\n",
            "\n",
            "EPOCH: 15\n"
          ]
        },
        {
          "output_type": "stream",
          "name": "stderr",
          "text": [
            "Loss=0.008690849877893925 Batch_id=468 Accuracy=98.95: 100%|██████████| 469/469 [00:25<00:00, 18.05it/s]\n"
          ]
        },
        {
          "output_type": "stream",
          "name": "stdout",
          "text": [
            "\n",
            "Test set: Average loss: 0.0218, Accuracy: 9932/10000 (99.32%)\n",
            "\n",
            "EPOCH: 16\n"
          ]
        },
        {
          "output_type": "stream",
          "name": "stderr",
          "text": [
            "Loss=0.03737999126315117 Batch_id=468 Accuracy=98.93: 100%|██████████| 469/469 [00:26<00:00, 18.01it/s]\n"
          ]
        },
        {
          "output_type": "stream",
          "name": "stdout",
          "text": [
            "\n",
            "Test set: Average loss: 0.0217, Accuracy: 9932/10000 (99.32%)\n",
            "\n",
            "EPOCH: 17\n"
          ]
        },
        {
          "output_type": "stream",
          "name": "stderr",
          "text": [
            "Loss=0.033381495624780655 Batch_id=468 Accuracy=98.92: 100%|██████████| 469/469 [00:27<00:00, 17.05it/s]\n"
          ]
        },
        {
          "output_type": "stream",
          "name": "stdout",
          "text": [
            "\n",
            "Test set: Average loss: 0.0216, Accuracy: 9931/10000 (99.31%)\n",
            "\n",
            "EPOCH: 18\n"
          ]
        },
        {
          "output_type": "stream",
          "name": "stderr",
          "text": [
            "Loss=0.010096143931150436 Batch_id=468 Accuracy=98.98: 100%|██████████| 469/469 [00:26<00:00, 17.84it/s]\n"
          ]
        },
        {
          "output_type": "stream",
          "name": "stdout",
          "text": [
            "\n",
            "Test set: Average loss: 0.0216, Accuracy: 9931/10000 (99.31%)\n",
            "\n",
            "EPOCH: 19\n"
          ]
        },
        {
          "output_type": "stream",
          "name": "stderr",
          "text": [
            "Loss=0.013029612600803375 Batch_id=468 Accuracy=98.97: 100%|██████████| 469/469 [00:25<00:00, 18.39it/s]\n"
          ]
        },
        {
          "output_type": "stream",
          "name": "stdout",
          "text": [
            "\n",
            "Test set: Average loss: 0.0216, Accuracy: 9932/10000 (99.32%)\n",
            "\n",
            "EPOCH: 20\n"
          ]
        },
        {
          "output_type": "stream",
          "name": "stderr",
          "text": [
            "Loss=0.019975533708930016 Batch_id=468 Accuracy=98.98: 100%|██████████| 469/469 [00:25<00:00, 18.12it/s]\n"
          ]
        },
        {
          "output_type": "stream",
          "name": "stdout",
          "text": [
            "\n",
            "Test set: Average loss: 0.0216, Accuracy: 9932/10000 (99.32%)\n",
            "\n",
            "EPOCH: 21\n"
          ]
        },
        {
          "output_type": "stream",
          "name": "stderr",
          "text": [
            "Loss=0.026204844936728477 Batch_id=468 Accuracy=98.97: 100%|██████████| 469/469 [00:26<00:00, 17.94it/s]\n"
          ]
        },
        {
          "output_type": "stream",
          "name": "stdout",
          "text": [
            "\n",
            "Test set: Average loss: 0.0216, Accuracy: 9932/10000 (99.32%)\n",
            "\n",
            "EPOCH: 22\n"
          ]
        },
        {
          "output_type": "stream",
          "name": "stderr",
          "text": [
            "Loss=0.03415730968117714 Batch_id=468 Accuracy=99.01: 100%|██████████| 469/469 [00:25<00:00, 18.06it/s]\n"
          ]
        },
        {
          "output_type": "stream",
          "name": "stdout",
          "text": [
            "\n",
            "Test set: Average loss: 0.0216, Accuracy: 9932/10000 (99.32%)\n",
            "\n",
            "EPOCH: 23\n"
          ]
        },
        {
          "output_type": "stream",
          "name": "stderr",
          "text": [
            "Loss=0.00941187608987093 Batch_id=468 Accuracy=98.93: 100%|██████████| 469/469 [00:26<00:00, 18.03it/s]\n"
          ]
        },
        {
          "output_type": "stream",
          "name": "stdout",
          "text": [
            "\n",
            "Test set: Average loss: 0.0216, Accuracy: 9931/10000 (99.31%)\n",
            "\n",
            "EPOCH: 24\n"
          ]
        },
        {
          "output_type": "stream",
          "name": "stderr",
          "text": [
            "Loss=0.003641365794464946 Batch_id=468 Accuracy=98.92: 100%|██████████| 469/469 [00:27<00:00, 17.05it/s]\n"
          ]
        },
        {
          "output_type": "stream",
          "name": "stdout",
          "text": [
            "\n",
            "Test set: Average loss: 0.0216, Accuracy: 9931/10000 (99.31%)\n",
            "\n"
          ]
        }
      ],
      "source": [
        "from torch.optim.lr_scheduler import StepLR\n",
        "\n",
        "model =  Net(normalizationMethod='GN').to(device)\n",
        "optimizer = optim.SGD(model.parameters(), lr=0.02, momentum=0.9)\n",
        "scheduler = StepLR(optimizer, step_size=6, gamma=0.1)\n",
        "\n",
        "\n",
        "EPOCHS = 25\n",
        "for epoch in range(EPOCHS):\n",
        "    print(\"EPOCH:\", epoch)\n",
        "    train(model, device, train_loader, optimizer, epoch, runName='GN')\n",
        "    scheduler.step()\n",
        "    test(model, device, test_loader, runName='GN')"
      ]
    },
    {
      "cell_type": "code",
      "execution_count": 11,
      "metadata": {
        "id": "aF5FxI16zI_b"
      },
      "outputs": [],
      "source": [
        "# import necessary libraries\n",
        "import matplotlib.pyplot as plt\n",
        "\n",
        "# define a function to plot misclassified images\n",
        "def plot_misclassified_images(model, test_loader):\n",
        "    # set model to evaluation mode\n",
        "    model.eval()\n",
        "\n",
        "    misclassified_images = []\n",
        "    actual_labels = []\n",
        "    predicted_labels = []\n",
        "    \n",
        "    with torch.no_grad():\n",
        "        for data, target in test_loader:\n",
        "            data, target = data.to(device), target.to(device)\n",
        "            output = model(data)\n",
        "            _, pred = torch.max(output, 1)\n",
        "            for i in range(len(pred)):\n",
        "                if pred[i] != target[i]:\n",
        "                    misclassified_images.append(data[i])\n",
        "                    actual_labels.append(target[i])\n",
        "                    predicted_labels.append(pred[i])\n",
        "\n",
        "    # Plot the misclassified images\n",
        "    fig = plt.figure(figsize=(10, 5))\n",
        "    for i in range(10):\n",
        "        sub = fig.add_subplot(2, 5, i+1)\n",
        "        plt.imshow(misclassified_images[i].cpu().numpy().squeeze(), cmap='gray', interpolation='none')\n",
        "        sub.set_title(\"Actual: {}, Pred: {}\".format(actual_labels[i], predicted_labels[i]),color='red')\n",
        "    plt.tight_layout()\n",
        "    plt.show()\n"
      ]
    },
    {
      "cell_type": "code",
      "execution_count": 12,
      "metadata": {
        "colab": {
          "base_uri": "https://localhost:8080/",
          "height": 480
        },
        "id": "dedXL6642CIC",
        "outputId": "2167c3b5-74c3-4ce0-a55b-e2aba48fc4e9"
      },
      "outputs": [
        {
          "output_type": "display_data",
          "data": {
            "text/plain": [
              "<Figure size 1000x500 with 10 Axes>"
            ],
            "image/png": "[encoded data removed]"
          },
          "metadata": {}
        }
      ],
      "source": [
        "plot_misclassified_images(model, test_loader)"
      ]
    },
    {
      "cell_type": "markdown",
      "metadata": {
        "id": "hRR6ZoA436rW"
      },
      "source": [
        "## Network with Layer Normalization"
      ]
    },
    {
      "cell_type": "code",
      "execution_count": 13,
      "metadata": {
        "colab": {
          "base_uri": "https://localhost:8080/"
        },
        "id": "t_PjGtol4BII",
        "outputId": "af11dfc1-f994-4217-9146-f0b7a6be9e0e"
      },
      "outputs": [
        {
          "output_type": "stream",
          "name": "stdout",
          "text": [
            "EPOCH: 0\n"
          ]
        },
        {
          "output_type": "stream",
          "name": "stderr",
          "text": [
            "Loss=0.07399492710828781 Batch_id=468 Accuracy=89.56: 100%|██████████| 469/469 [00:35<00:00, 13.30it/s]\n"
          ]
        },
        {
          "output_type": "stream",
          "name": "stdout",
          "text": [
            "\n",
            "Test set: Average loss: 0.0793, Accuracy: 9783/10000 (97.83%)\n",
            "\n",
            "EPOCH: 1\n"
          ]
        },
        {
          "output_type": "stream",
          "name": "stderr",
          "text": [
            "Loss=0.05929587408900261 Batch_id=468 Accuracy=97.40: 100%|██████████| 469/469 [00:26<00:00, 18.03it/s]\n"
          ]
        },
        {
          "output_type": "stream",
          "name": "stdout",
          "text": [
            "\n",
            "Test set: Average loss: 0.0431, Accuracy: 9874/10000 (98.74%)\n",
            "\n",
            "EPOCH: 2\n"
          ]
        },
        {
          "output_type": "stream",
          "name": "stderr",
          "text": [
            "Loss=0.04790486395359039 Batch_id=468 Accuracy=97.91: 100%|██████████| 469/469 [00:26<00:00, 17.97it/s]\n"
          ]
        },
        {
          "output_type": "stream",
          "name": "stdout",
          "text": [
            "\n",
            "Test set: Average loss: 0.0477, Accuracy: 9861/10000 (98.61%)\n",
            "\n",
            "EPOCH: 3\n"
          ]
        },
        {
          "output_type": "stream",
          "name": "stderr",
          "text": [
            "Loss=0.11237496882677078 Batch_id=468 Accuracy=98.35: 100%|██████████| 469/469 [00:25<00:00, 18.10it/s]\n"
          ]
        },
        {
          "output_type": "stream",
          "name": "stdout",
          "text": [
            "\n",
            "Test set: Average loss: 0.0345, Accuracy: 9890/10000 (98.90%)\n",
            "\n",
            "EPOCH: 4\n"
          ]
        },
        {
          "output_type": "stream",
          "name": "stderr",
          "text": [
            "Loss=0.09399338811635971 Batch_id=468 Accuracy=98.37: 100%|██████████| 469/469 [00:26<00:00, 17.84it/s]\n"
          ]
        },
        {
          "output_type": "stream",
          "name": "stdout",
          "text": [
            "\n",
            "Test set: Average loss: 0.0369, Accuracy: 9886/10000 (98.86%)\n",
            "\n",
            "EPOCH: 5\n"
          ]
        },
        {
          "output_type": "stream",
          "name": "stderr",
          "text": [
            "Loss=0.004545200150460005 Batch_id=468 Accuracy=98.47: 100%|██████████| 469/469 [00:28<00:00, 16.33it/s]\n"
          ]
        },
        {
          "output_type": "stream",
          "name": "stdout",
          "text": [
            "\n",
            "Test set: Average loss: 0.0310, Accuracy: 9905/10000 (99.05%)\n",
            "\n",
            "EPOCH: 6\n"
          ]
        },
        {
          "output_type": "stream",
          "name": "stderr",
          "text": [
            "Loss=0.0538380891084671 Batch_id=468 Accuracy=98.81: 100%|██████████| 469/469 [00:26<00:00, 17.84it/s]\n"
          ]
        },
        {
          "output_type": "stream",
          "name": "stdout",
          "text": [
            "\n",
            "Test set: Average loss: 0.0253, Accuracy: 9919/10000 (99.19%)\n",
            "\n",
            "EPOCH: 7\n"
          ]
        },
        {
          "output_type": "stream",
          "name": "stderr",
          "text": [
            "Loss=0.0512087307870388 Batch_id=468 Accuracy=98.95: 100%|██████████| 469/469 [00:25<00:00, 18.15it/s]\n"
          ]
        },
        {
          "output_type": "stream",
          "name": "stdout",
          "text": [
            "\n",
            "Test set: Average loss: 0.0245, Accuracy: 9925/10000 (99.25%)\n",
            "\n",
            "EPOCH: 8\n"
          ]
        },
        {
          "output_type": "stream",
          "name": "stderr",
          "text": [
            "Loss=0.02068532444536686 Batch_id=468 Accuracy=98.94: 100%|██████████| 469/469 [00:25<00:00, 18.07it/s]\n"
          ]
        },
        {
          "output_type": "stream",
          "name": "stdout",
          "text": [
            "\n",
            "Test set: Average loss: 0.0242, Accuracy: 9926/10000 (99.26%)\n",
            "\n",
            "EPOCH: 9\n"
          ]
        },
        {
          "output_type": "stream",
          "name": "stderr",
          "text": [
            "Loss=0.05021150782704353 Batch_id=468 Accuracy=98.90: 100%|██████████| 469/469 [00:26<00:00, 17.70it/s]\n"
          ]
        },
        {
          "output_type": "stream",
          "name": "stdout",
          "text": [
            "\n",
            "Test set: Average loss: 0.0231, Accuracy: 9924/10000 (99.24%)\n",
            "\n",
            "EPOCH: 10\n"
          ]
        },
        {
          "output_type": "stream",
          "name": "stderr",
          "text": [
            "Loss=0.10982344299554825 Batch_id=468 Accuracy=98.97: 100%|██████████| 469/469 [00:26<00:00, 17.67it/s]\n"
          ]
        },
        {
          "output_type": "stream",
          "name": "stdout",
          "text": [
            "\n",
            "Test set: Average loss: 0.0231, Accuracy: 9930/10000 (99.30%)\n",
            "\n",
            "EPOCH: 11\n"
          ]
        },
        {
          "output_type": "stream",
          "name": "stderr",
          "text": [
            "Loss=0.14013083279132843 Batch_id=468 Accuracy=99.01: 100%|██████████| 469/469 [00:27<00:00, 16.92it/s]\n"
          ]
        },
        {
          "output_type": "stream",
          "name": "stdout",
          "text": [
            "\n",
            "Test set: Average loss: 0.0229, Accuracy: 9928/10000 (99.28%)\n",
            "\n",
            "EPOCH: 12\n"
          ]
        },
        {
          "output_type": "stream",
          "name": "stderr",
          "text": [
            "Loss=0.021055830642580986 Batch_id=468 Accuracy=98.97: 100%|██████████| 469/469 [00:26<00:00, 17.74it/s]\n"
          ]
        },
        {
          "output_type": "stream",
          "name": "stdout",
          "text": [
            "\n",
            "Test set: Average loss: 0.0233, Accuracy: 9926/10000 (99.26%)\n",
            "\n",
            "EPOCH: 13\n"
          ]
        },
        {
          "output_type": "stream",
          "name": "stderr",
          "text": [
            "Loss=0.014738090336322784 Batch_id=468 Accuracy=99.01: 100%|██████████| 469/469 [00:25<00:00, 18.31it/s]\n"
          ]
        },
        {
          "output_type": "stream",
          "name": "stdout",
          "text": [
            "\n",
            "Test set: Average loss: 0.0233, Accuracy: 9925/10000 (99.25%)\n",
            "\n",
            "EPOCH: 14\n"
          ]
        },
        {
          "output_type": "stream",
          "name": "stderr",
          "text": [
            "Loss=0.05149974301457405 Batch_id=468 Accuracy=99.03: 100%|██████████| 469/469 [00:26<00:00, 17.70it/s]\n"
          ]
        },
        {
          "output_type": "stream",
          "name": "stdout",
          "text": [
            "\n",
            "Test set: Average loss: 0.0228, Accuracy: 9927/10000 (99.27%)\n",
            "\n",
            "EPOCH: 15\n"
          ]
        },
        {
          "output_type": "stream",
          "name": "stderr",
          "text": [
            "Loss=0.050836700946092606 Batch_id=468 Accuracy=98.98: 100%|██████████| 469/469 [00:26<00:00, 17.93it/s]\n"
          ]
        },
        {
          "output_type": "stream",
          "name": "stdout",
          "text": [
            "\n",
            "Test set: Average loss: 0.0230, Accuracy: 9927/10000 (99.27%)\n",
            "\n",
            "EPOCH: 16\n"
          ]
        },
        {
          "output_type": "stream",
          "name": "stderr",
          "text": [
            "Loss=0.03922379016876221 Batch_id=468 Accuracy=99.02: 100%|██████████| 469/469 [00:26<00:00, 17.77it/s]\n"
          ]
        },
        {
          "output_type": "stream",
          "name": "stdout",
          "text": [
            "\n",
            "Test set: Average loss: 0.0230, Accuracy: 9929/10000 (99.29%)\n",
            "\n",
            "EPOCH: 17\n"
          ]
        },
        {
          "output_type": "stream",
          "name": "stderr",
          "text": [
            "Loss=0.015070933848619461 Batch_id=468 Accuracy=99.02: 100%|██████████| 469/469 [00:26<00:00, 17.67it/s]\n"
          ]
        },
        {
          "output_type": "stream",
          "name": "stdout",
          "text": [
            "\n",
            "Test set: Average loss: 0.0229, Accuracy: 9928/10000 (99.28%)\n",
            "\n",
            "EPOCH: 18\n"
          ]
        },
        {
          "output_type": "stream",
          "name": "stderr",
          "text": [
            "Loss=0.035861920565366745 Batch_id=468 Accuracy=99.06: 100%|██████████| 469/469 [00:27<00:00, 16.81it/s]\n"
          ]
        },
        {
          "output_type": "stream",
          "name": "stdout",
          "text": [
            "\n",
            "Test set: Average loss: 0.0228, Accuracy: 9928/10000 (99.28%)\n",
            "\n",
            "EPOCH: 19\n"
          ]
        },
        {
          "output_type": "stream",
          "name": "stderr",
          "text": [
            "Loss=0.005712642800062895 Batch_id=468 Accuracy=99.03: 100%|██████████| 469/469 [00:25<00:00, 18.28it/s]\n"
          ]
        },
        {
          "output_type": "stream",
          "name": "stdout",
          "text": [
            "\n",
            "Test set: Average loss: 0.0229, Accuracy: 9927/10000 (99.27%)\n",
            "\n",
            "EPOCH: 20\n"
          ]
        },
        {
          "output_type": "stream",
          "name": "stderr",
          "text": [
            "Loss=0.05794547498226166 Batch_id=468 Accuracy=98.97: 100%|██████████| 469/469 [00:25<00:00, 18.14it/s]\n"
          ]
        },
        {
          "output_type": "stream",
          "name": "stdout",
          "text": [
            "\n",
            "Test set: Average loss: 0.0229, Accuracy: 9927/10000 (99.27%)\n",
            "\n",
            "EPOCH: 21\n"
          ]
        },
        {
          "output_type": "stream",
          "name": "stderr",
          "text": [
            "Loss=0.021249989047646523 Batch_id=468 Accuracy=98.98: 100%|██████████| 469/469 [00:26<00:00, 17.73it/s]\n"
          ]
        },
        {
          "output_type": "stream",
          "name": "stdout",
          "text": [
            "\n",
            "Test set: Average loss: 0.0228, Accuracy: 9928/10000 (99.28%)\n",
            "\n",
            "EPOCH: 22\n"
          ]
        },
        {
          "output_type": "stream",
          "name": "stderr",
          "text": [
            "Loss=0.022153625264763832 Batch_id=468 Accuracy=99.02: 100%|██████████| 469/469 [00:26<00:00, 17.70it/s]\n"
          ]
        },
        {
          "output_type": "stream",
          "name": "stdout",
          "text": [
            "\n",
            "Test set: Average loss: 0.0228, Accuracy: 9928/10000 (99.28%)\n",
            "\n",
            "EPOCH: 23\n"
          ]
        },
        {
          "output_type": "stream",
          "name": "stderr",
          "text": [
            "Loss=0.0028858494479209185 Batch_id=468 Accuracy=98.98: 100%|██████████| 469/469 [00:26<00:00, 17.77it/s]\n"
          ]
        },
        {
          "output_type": "stream",
          "name": "stdout",
          "text": [
            "\n",
            "Test set: Average loss: 0.0228, Accuracy: 9928/10000 (99.28%)\n",
            "\n",
            "EPOCH: 24\n"
          ]
        },
        {
          "output_type": "stream",
          "name": "stderr",
          "text": [
            "Loss=0.019949059933423996 Batch_id=468 Accuracy=99.00: 100%|██████████| 469/469 [00:26<00:00, 17.45it/s]\n"
          ]
        },
        {
          "output_type": "stream",
          "name": "stdout",
          "text": [
            "\n",
            "Test set: Average loss: 0.0228, Accuracy: 9928/10000 (99.28%)\n",
            "\n"
          ]
        }
      ],
      "source": [
        "model =  Net(normalizationMethod='LN').to(device)\n",
        "optimizer = optim.SGD(model.parameters(), lr=0.02, momentum=0.9)\n",
        "scheduler = StepLR(optimizer, step_size=6, gamma=0.1)\n",
        "\n",
        "\n",
        "EPOCHS = 25\n",
        "for epoch in range(EPOCHS):\n",
        "    print(\"EPOCH:\", epoch)\n",
        "    train(model, device, train_loader, optimizer, epoch, runName='LN')\n",
        "    scheduler.step()\n",
        "    test(model, device, test_loader, runName='LN')"
      ]
    },
    {
      "cell_type": "code",
      "execution_count": 14,
      "metadata": {
        "colab": {
          "base_uri": "https://localhost:8080/",
          "height": 480
        },
        "id": "il1hDoQZ4JMB",
        "outputId": "fd5ac90d-5fd1-4f7f-908c-5bb3d39fe40f"
      },
      "outputs": [
        {
          "output_type": "display_data",
          "data": {
            "text/plain": [
              "<Figure size 1000x500 with 10 Axes>"
            ],
            "image/png": "[encoded data removed]"
          },
          "metadata": {}
        }
      ],
      "source": [
        "plot_misclassified_images(model, test_loader)"
      ]
    },
    {
      "cell_type": "markdown",
      "metadata": {
        "id": "SHFBVlRd5eXa"
      },
      "source": [
        "## Network with L1 + BN"
      ]
    },
    {
      "cell_type": "code",
      "execution_count": 15,
      "metadata": {
        "colab": {
          "base_uri": "https://localhost:8080/"
        },
        "id": "BAEHWaUP5jyV",
        "outputId": "5875b7a9-fba0-4ce5-f268-d4641c0c413e"
      },
      "outputs": [
        {
          "metadata": {
            "tags": null
          },
          "name": "stdout",
          "output_type": "stream",
          "text": [
            "EPOCH: 0\n"
          ]
        },
        {
          "metadata": {
            "tags": null
          },
          "name": "stderr",
          "output_type": "stream",
          "text": [
            "Loss=0.08112204819917679 Batch_id=468 Accuracy=92.06: 100%|██████████| 469/469 [00:27<00:00, 16.82it/s]\n"
          ]
        },
        {
          "metadata": {
            "tags": null
          },
          "name": "stdout",
          "output_type": "stream",
          "text": [
            "\n",
            "Test set: Average loss: 0.0493, Accuracy: 9855/10000 (98.55%)\n",
            "\n",
            "EPOCH: 1\n"
          ]
        },
        {
          "metadata": {
            "tags": null
          },
          "name": "stderr",
          "output_type": "stream",
          "text": [
            "Loss=0.09060082584619522 Batch_id=468 Accuracy=97.61: 100%|██████████| 469/469 [00:27<00:00, 17.26it/s]\n"
          ]
        },
        {
          "metadata": {
            "tags": null
          },
          "name": "stdout",
          "output_type": "stream",
          "text": [
            "\n",
            "Test set: Average loss: 0.0354, Accuracy: 9895/10000 (98.95%)\n",
            "\n",
            "EPOCH: 2\n"
          ]
        },
        {
          "metadata": {
            "tags": null
          },
          "name": "stderr",
          "output_type": "stream",
          "text": [
            "Loss=0.0774683803319931 Batch_id=468 Accuracy=98.12: 100%|██████████| 469/469 [00:27<00:00, 17.14it/s]\n"
          ]
        },
        {
          "metadata": {
            "tags": null
          },
          "name": "stdout",
          "output_type": "stream",
          "text": [
            "\n",
            "Test set: Average loss: 0.0338, Accuracy: 9898/10000 (98.98%)\n",
            "\n",
            "EPOCH: 3\n"
          ]
        },
        {
          "metadata": {
            "tags": null
          },
          "name": "stderr",
          "output_type": "stream",
          "text": [
            "Loss=0.18598055839538574 Batch_id=468 Accuracy=98.36: 100%|██████████| 469/469 [00:27<00:00, 17.03it/s]\n"
          ]
        },
        {
          "metadata": {
            "tags": null
          },
          "name": "stdout",
          "output_type": "stream",
          "text": [
            "\n",
            "Test set: Average loss: 0.0275, Accuracy: 9913/10000 (99.13%)\n",
            "\n",
            "EPOCH: 4\n"
          ]
        },
        {
          "metadata": {
            "tags": null
          },
          "name": "stderr",
          "output_type": "stream",
          "text": [
            "Loss=0.08385970443487167 Batch_id=468 Accuracy=98.45: 100%|██████████| 469/469 [00:27<00:00, 16.92it/s]\n"
          ]
        },
        {
          "metadata": {
            "tags": null
          },
          "name": "stdout",
          "output_type": "stream",
          "text": [
            "\n",
            "Test set: Average loss: 0.0270, Accuracy: 9911/10000 (99.11%)\n",
            "\n",
            "EPOCH: 5\n"
          ]
        },
        {
          "metadata": {
            "tags": null
          },
          "name": "stderr",
          "output_type": "stream",
          "text": [
            "Loss=0.09647310525178909 Batch_id=468 Accuracy=98.62: 100%|██████████| 469/469 [00:27<00:00, 17.20it/s]\n"
          ]
        },
        {
          "metadata": {
            "tags": null
          },
          "name": "stdout",
          "output_type": "stream",
          "text": [
            "\n",
            "Test set: Average loss: 0.0279, Accuracy: 9917/10000 (99.17%)\n",
            "\n",
            "EPOCH: 6\n"
          ]
        },
        {
          "metadata": {
            "tags": null
          },
          "name": "stderr",
          "output_type": "stream",
          "text": [
            "Loss=0.05404539406299591 Batch_id=468 Accuracy=98.82: 100%|██████████| 469/469 [00:28<00:00, 16.40it/s]\n"
          ]
        },
        {
          "metadata": {
            "tags": null
          },
          "name": "stdout",
          "output_type": "stream",
          "text": [
            "\n",
            "Test set: Average loss: 0.0200, Accuracy: 9936/10000 (99.36%)\n",
            "\n",
            "EPOCH: 7\n"
          ]
        },
        {
          "metadata": {
            "tags": null
          },
          "name": "stderr",
          "output_type": "stream",
          "text": [
            "Loss=0.024878384545445442 Batch_id=468 Accuracy=98.85: 100%|██████████| 469/469 [00:27<00:00, 17.09it/s]\n"
          ]
        },
        {
          "metadata": {
            "tags": null
          },
          "name": "stdout",
          "output_type": "stream",
          "text": [
            "\n",
            "Test set: Average loss: 0.0197, Accuracy: 9936/10000 (99.36%)\n",
            "\n",
            "EPOCH: 8\n"
          ]
        },
        {
          "metadata": {
            "tags": null
          },
          "name": "stderr",
          "output_type": "stream",
          "text": [
            "Loss=0.0400409959256649 Batch_id=468 Accuracy=98.91: 100%|██████████| 469/469 [00:27<00:00, 17.27it/s]\n"
          ]
        },
        {
          "metadata": {
            "tags": null
          },
          "name": "stdout",
          "output_type": "stream",
          "text": [
            "\n",
            "Test set: Average loss: 0.0194, Accuracy: 9934/10000 (99.34%)\n",
            "\n",
            "EPOCH: 9\n"
          ]
        },
        {
          "metadata": {
            "tags": null
          },
          "name": "stderr",
          "output_type": "stream",
          "text": [
            "Loss=0.056392934173345566 Batch_id=468 Accuracy=98.93: 100%|██████████| 469/469 [00:26<00:00, 17.37it/s]\n"
          ]
        },
        {
          "metadata": {
            "tags": null
          },
          "name": "stdout",
          "output_type": "stream",
          "text": [
            "\n",
            "Test set: Average loss: 0.0193, Accuracy: 9940/10000 (99.40%)\n",
            "\n",
            "EPOCH: 10\n"
          ]
        },
        {
          "metadata": {
            "tags": null
          },
          "name": "stderr",
          "output_type": "stream",
          "text": [
            "Loss=0.01919112727046013 Batch_id=468 Accuracy=99.02: 100%|██████████| 469/469 [00:26<00:00, 17.55it/s]\n"
          ]
        },
        {
          "metadata": {
            "tags": null
          },
          "name": "stdout",
          "output_type": "stream",
          "text": [
            "\n",
            "Test set: Average loss: 0.0193, Accuracy: 9937/10000 (99.37%)\n",
            "\n",
            "EPOCH: 11\n"
          ]
        },
        {
          "output_type": "stream",
          "name": "stderr",
          "text": [
            "Loss=0.019142024219036102 Batch_id=468 Accuracy=98.97: 100%|██████████| 469/469 [00:27<00:00, 17.31it/s]\n"
          ]
        },
        {
          "output_type": "stream",
          "name": "stdout",
          "text": [
            "\n",
            "Test set: Average loss: 0.0190, Accuracy: 9937/10000 (99.37%)\n",
            "\n",
            "EPOCH: 12\n"
          ]
        },
        {
          "output_type": "stream",
          "name": "stderr",
          "text": [
            "Loss=0.010383009910583496 Batch_id=468 Accuracy=98.97: 100%|██████████| 469/469 [00:28<00:00, 16.58it/s]\n"
          ]
        },
        {
          "output_type": "stream",
          "name": "stdout",
          "text": [
            "\n",
            "Test set: Average loss: 0.0190, Accuracy: 9940/10000 (99.40%)\n",
            "\n",
            "EPOCH: 13\n"
          ]
        },
        {
          "output_type": "stream",
          "name": "stderr",
          "text": [
            "Loss=0.03752800449728966 Batch_id=468 Accuracy=98.95: 100%|██████████| 469/469 [00:26<00:00, 17.70it/s]\n"
          ]
        },
        {
          "output_type": "stream",
          "name": "stdout",
          "text": [
            "\n",
            "Test set: Average loss: 0.0197, Accuracy: 9937/10000 (99.37%)\n",
            "\n",
            "EPOCH: 14\n"
          ]
        },
        {
          "output_type": "stream",
          "name": "stderr",
          "text": [
            "Loss=0.011697333306074142 Batch_id=468 Accuracy=98.99: 100%|██████████| 469/469 [00:26<00:00, 17.43it/s]\n"
          ]
        },
        {
          "output_type": "stream",
          "name": "stdout",
          "text": [
            "\n",
            "Test set: Average loss: 0.0195, Accuracy: 9935/10000 (99.35%)\n",
            "\n",
            "EPOCH: 15\n"
          ]
        },
        {
          "output_type": "stream",
          "name": "stderr",
          "text": [
            "Loss=0.03422754630446434 Batch_id=468 Accuracy=99.05: 100%|██████████| 469/469 [00:26<00:00, 17.48it/s]\n"
          ]
        },
        {
          "output_type": "stream",
          "name": "stdout",
          "text": [
            "\n",
            "Test set: Average loss: 0.0192, Accuracy: 9938/10000 (99.38%)\n",
            "\n",
            "EPOCH: 16\n"
          ]
        },
        {
          "output_type": "stream",
          "name": "stderr",
          "text": [
            "Loss=0.02821115404367447 Batch_id=468 Accuracy=98.96: 100%|██████████| 469/469 [00:26<00:00, 17.48it/s]\n"
          ]
        },
        {
          "output_type": "stream",
          "name": "stdout",
          "text": [
            "\n",
            "Test set: Average loss: 0.0193, Accuracy: 9939/10000 (99.39%)\n",
            "\n",
            "EPOCH: 17\n"
          ]
        },
        {
          "output_type": "stream",
          "name": "stderr",
          "text": [
            "Loss=0.015013430267572403 Batch_id=468 Accuracy=98.97: 100%|██████████| 469/469 [00:26<00:00, 17.43it/s]\n"
          ]
        },
        {
          "output_type": "stream",
          "name": "stdout",
          "text": [
            "\n",
            "Test set: Average loss: 0.0190, Accuracy: 9941/10000 (99.41%)\n",
            "\n",
            "EPOCH: 18\n"
          ]
        },
        {
          "output_type": "stream",
          "name": "stderr",
          "text": [
            "Loss=0.015283221378922462 Batch_id=468 Accuracy=98.93: 100%|██████████| 469/469 [00:27<00:00, 17.23it/s]\n"
          ]
        },
        {
          "output_type": "stream",
          "name": "stdout",
          "text": [
            "\n",
            "Test set: Average loss: 0.0189, Accuracy: 9939/10000 (99.39%)\n",
            "\n",
            "EPOCH: 19\n"
          ]
        },
        {
          "output_type": "stream",
          "name": "stderr",
          "text": [
            "Loss=0.02559192292392254 Batch_id=468 Accuracy=98.97: 100%|██████████| 469/469 [00:28<00:00, 16.71it/s]\n"
          ]
        },
        {
          "output_type": "stream",
          "name": "stdout",
          "text": [
            "\n",
            "Test set: Average loss: 0.0189, Accuracy: 9940/10000 (99.40%)\n",
            "\n",
            "EPOCH: 20\n"
          ]
        },
        {
          "output_type": "stream",
          "name": "stderr",
          "text": [
            "Loss=0.04365525394678116 Batch_id=468 Accuracy=99.06: 100%|██████████| 469/469 [00:27<00:00, 17.24it/s]\n"
          ]
        },
        {
          "output_type": "stream",
          "name": "stdout",
          "text": [
            "\n",
            "Test set: Average loss: 0.0191, Accuracy: 9939/10000 (99.39%)\n",
            "\n",
            "EPOCH: 21\n"
          ]
        },
        {
          "output_type": "stream",
          "name": "stderr",
          "text": [
            "Loss=0.019817069172859192 Batch_id=468 Accuracy=99.03: 100%|██████████| 469/469 [00:27<00:00, 17.32it/s]\n"
          ]
        },
        {
          "output_type": "stream",
          "name": "stdout",
          "text": [
            "\n",
            "Test set: Average loss: 0.0193, Accuracy: 9938/10000 (99.38%)\n",
            "\n",
            "EPOCH: 22\n"
          ]
        },
        {
          "output_type": "stream",
          "name": "stderr",
          "text": [
            "Loss=0.02621614560484886 Batch_id=468 Accuracy=99.03: 100%|██████████| 469/469 [00:26<00:00, 17.38it/s]\n"
          ]
        },
        {
          "output_type": "stream",
          "name": "stdout",
          "text": [
            "\n",
            "Test set: Average loss: 0.0184, Accuracy: 9945/10000 (99.45%)\n",
            "\n",
            "EPOCH: 23\n"
          ]
        },
        {
          "output_type": "stream",
          "name": "stderr",
          "text": [
            "Loss=0.03359677642583847 Batch_id=468 Accuracy=99.04: 100%|██████████| 469/469 [00:27<00:00, 17.21it/s]\n"
          ]
        },
        {
          "output_type": "stream",
          "name": "stdout",
          "text": [
            "\n",
            "Test set: Average loss: 0.0186, Accuracy: 9942/10000 (99.42%)\n",
            "\n",
            "EPOCH: 24\n"
          ]
        },
        {
          "output_type": "stream",
          "name": "stderr",
          "text": [
            "Loss=0.017277611419558525 Batch_id=468 Accuracy=99.01: 100%|██████████| 469/469 [00:27<00:00, 17.16it/s]\n"
          ]
        },
        {
          "output_type": "stream",
          "name": "stdout",
          "text": [
            "\n",
            "Test set: Average loss: 0.0190, Accuracy: 9944/10000 (99.44%)\n",
            "\n"
          ]
        }
      ],
      "source": [
        "model =  Net(normalizationMethod='BN').to(device)\n",
        "optimizer = optim.SGD(model.parameters(), lr=0.02, momentum=0.9)\n",
        "scheduler = StepLR(optimizer, step_size=6, gamma=0.1)\n",
        "\n",
        "\n",
        "EPOCHS = 25\n",
        "for epoch in range(EPOCHS):\n",
        "    print(\"EPOCH:\", epoch)\n",
        "    train(model, device, train_loader, optimizer, epoch, runName='BN',  L1flag=True)\n",
        "    scheduler.step()\n",
        "    test(model, device, test_loader, runName='BN')"
      ]
    },
    {
      "cell_type": "code",
      "execution_count": 16,
      "metadata": {
        "colab": {
          "base_uri": "https://localhost:8080/",
          "height": 480
        },
        "id": "Q4df0Be97g4g",
        "outputId": "755a6938-08de-41c6-a77c-d6227ff788cc"
      },
      "outputs": [
        {
          "output_type": "display_data",
          "data": {
            "text/plain": [
              "<Figure size 1000x500 with 10 Axes>"
            ],
            "image/png": "[encoded data removed]"
          },
          "metadata": {}
        }
      ],
      "source": [
        "plot_misclassified_images(model, test_loader)"
      ]
    },
    {
      "cell_type": "code",
      "execution_count": 17,
      "metadata": {
        "colab": {
          "base_uri": "https://localhost:8080/",
          "height": 555
        },
        "id": "ynrJSBAaS-fI",
        "outputId": "50a9ac38-0003-4387-b47d-4281b4f3f02a"
      },
      "outputs": [
        {
          "output_type": "stream",
          "name": "stderr",
          "text": [
            "<ipython-input-17-5539caef9061>:4: MatplotlibDeprecationWarning: The seaborn styles shipped by Matplotlib are deprecated since 3.6, as they no longer correspond to the styles shipped by seaborn. However, they will remain available as 'seaborn-v0_8-<style>'. Alternatively, directly use the seaborn API instead.\n",
            "  plt.style.use('seaborn-poster')\n"
          ]
        },
        {
          "output_type": "display_data",
          "data": {
            "text/plain": [
              "<Figure size 1600x500 with 2 Axes>"
            ],
            "image/png": "[encoded data removed]"
          },
          "metadata": {}
        }
      ],
      "source": [
        "import matplotlib.pyplot as plt\n",
        "import numpy as np\n",
        "\n",
        "plt.style.use('seaborn-poster')\n",
        "\n",
        "fig, ax = plt.subplots(1, 2)\n",
        "\n",
        "color1 = 'blue'\n",
        "color2 = 'red'\n",
        "color3 = 'green'\n",
        "linestyle1 = '-'\n",
        "linestyle2 = '--'\n",
        "linestyle3 = '-.'\n",
        "\n",
        "train_epoch_linspace = np.linspace(1, EPOCHS, len(train_losses['GN']))\n",
        "test_epoch_linspace = np.linspace(1, EPOCHS, len(test_losses['GN']))\n",
        "#Left plot\n",
        "\n",
        "ax[0].set_xlabel('Epoch')\n",
        "ax[0].set_ylabel('Training Loss', color=color1)\n",
        "ax[0].plot(train_epoch_linspace, train_losses['GN'], color=color1, linestyle=linestyle1,alpha=0.5, label='Group Norm')\n",
        "ax[0].plot(train_epoch_linspace, train_losses['LN'], color=color2, linestyle=linestyle2,alpha=0.7, label='Layer Norm')\n",
        "ax[0].plot(train_epoch_linspace, train_losses['BN'], color=color3, linestyle=linestyle3,alpha=0.9, label='Batch Norm + L1 Reg')\n",
        "ax[0].tick_params(axis='y', labelcolor=color1)\n",
        "ax[0].legend(loc='upper right')\n",
        "#Right plot\n",
        "\n",
        "ax[1].set_xlabel('Epoch')\n",
        "ax[1].set_ylabel('Test Loss', color=color2)\n",
        "ax[1].plot(test_epoch_linspace, test_losses['GN'], color=color1, linestyle=linestyle1,alpha=0.5, label='Group Norm')\n",
        "ax[1].plot(test_epoch_linspace, test_losses['LN'], color=color2, linestyle=linestyle2,alpha=0.7, label='Layer Norm')\n",
        "ax[1].plot(test_epoch_linspace, test_losses['BN'], color=color3, linestyle=linestyle3,alpha=0.9, label='Batch Norm + L1 Reg')\n",
        "ax[1].tick_params(axis='y', labelcolor=color2)\n",
        "ax[1].legend(loc='upper right')\n",
        "\n",
        "fig.tight_layout()\n",
        "fig.set_size_inches(16, 5)\n",
        "plt.show()"
      ]
    },
    {
      "cell_type": "code",
      "execution_count": 18,
      "metadata": {
        "colab": {
          "base_uri": "https://localhost:8080/",
          "height": 555
        },
        "id": "w5rKwe42IBVe",
        "outputId": "fd5f52cb-3ff4-408b-9ef2-e4a11c412cb5"
      },
      "outputs": [
        {
          "output_type": "stream",
          "name": "stderr",
          "text": [
            "<ipython-input-18-d54eb478b391>:4: MatplotlibDeprecationWarning: The seaborn styles shipped by Matplotlib are deprecated since 3.6, as they no longer correspond to the styles shipped by seaborn. However, they will remain available as 'seaborn-v0_8-<style>'. Alternatively, directly use the seaborn API instead.\n",
            "  plt.style.use('seaborn-poster')\n"
          ]
        },
        {
          "output_type": "display_data",
          "data": {
            "text/plain": [
              "<Figure size 1600x500 with 2 Axes>"
            ],
            "image/png": "[encoded data removed]"
          },
          "metadata": {}
        }
      ],
      "source": [
        "import matplotlib.pyplot as plt\n",
        "import numpy as np\n",
        "\n",
        "plt.style.use('seaborn-poster')\n",
        "\n",
        "fig, ax = plt.subplots(1, 2)\n",
        "\n",
        "color1 = 'blue'\n",
        "color2 = 'red'\n",
        "color3 = 'green'\n",
        "linestyle1 = '-'\n",
        "linestyle2 = '--'\n",
        "linestyle3 = '-.'\n",
        "\n",
        "train_epoch_linspace = np.linspace(1, EPOCHS, len(train_acc['GN']))\n",
        "test_epoch_linspace = np.linspace(1, EPOCHS, len(test_acc['GN']))\n",
        "#Left plot\n",
        "\n",
        "ax[0].set_xlabel('Epoch')\n",
        "ax[0].set_ylabel('Training Accuracy', color=color1)\n",
        "ax[0].plot(train_epoch_linspace, train_acc['GN'], color=color1, linestyle=linestyle1,alpha=0.5, label='Group Norm')\n",
        "ax[0].plot(train_epoch_linspace, train_acc['LN'], color=color2, linestyle=linestyle2,alpha=0.7, label='Layer Norm')\n",
        "ax[0].plot(train_epoch_linspace, train_acc['BN'], color=color3, linestyle=linestyle3,alpha=0.9, label='Batch Norm + L1 Reg')\n",
        "ax[0].tick_params(axis='y', labelcolor=color1)\n",
        "ax[0].legend(loc='lower right')\n",
        "#Right plot\n",
        "\n",
        "ax[1].set_xlabel('Epoch')\n",
        "ax[1].set_ylabel('Test Accuracy', color=color2)\n",
        "ax[1].plot(test_epoch_linspace, test_acc['GN'], color=color1, linestyle=linestyle1,alpha=0.5, label='Group Norm')\n",
        "ax[1].plot(test_epoch_linspace, test_acc['LN'], color=color2, linestyle=linestyle2,alpha=0.7, label='Layer Norm')\n",
        "ax[1].plot(test_epoch_linspace, test_acc['BN'], color=color3, linestyle=linestyle3,alpha=0.9, label='Batch Norm + L1 Reg')\n",
        "ax[1].tick_params(axis='y', labelcolor=color2)\n",
        "ax[1].legend(loc='lower right')\n",
        "\n",
        "fig.tight_layout()\n",
        "fig.set_size_inches(16, 5)\n",
        "plt.show()"
      ]
    },
    {
      "cell_type": "code",
      "source": [],
      "metadata": {
        "id": "vPmfmF0_zm8S"
      },
      "execution_count": 18,
      "outputs": []
    }
  ],
  "metadata": {
    "accelerator": "GPU",
    "colab": {
      "provenance": [],
      "include_colab_link": true
    },
    "gpuClass": "standard",
    "kernelspec": {
      "display_name": "Python 3",
      "name": "python3"
    },
    "language_info": {
      "name": "python"
    }
  },
  "nbformat": 4,
  "nbformat_minor": 0
}